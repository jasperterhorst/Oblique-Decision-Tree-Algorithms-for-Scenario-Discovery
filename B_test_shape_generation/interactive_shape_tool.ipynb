{
 "cells": [
  {
   "cell_type": "markdown",
   "source": [
    "# Interactive Test Shape Generation Interface\n",
    "\n",
    "This notebook provides an interactive interface to generate and inspect geometric shapes in **2D and 3D**. Each shape is defined parametrically and supports configuration for size, orientation, noise, and sample count.\n",
    "\n",
    "After running the cell below, a tabbed interface appears, with each tab dedicated to one of the supported shapes. Inside each tab, you can:\n",
    "\n",
    "- Adjust shape parameters using sliders and numeric inputs\n",
    "- Set a custom name for the output files\n",
    "- Visualize how parameter changes affect the geometry in real time\n",
    "- Save the resulting dataset and figure to disk\n",
    "\n",
    "Each shape you generate is saved to a structured output folder (`../_data/shapes/{shape_name}/`) and includes:\n",
    "- A `.csv` file with sampled coordinates (`*_x.csv`)\n",
    "- A `.csv` file with binary labels (`*_y.csv`)\n",
    "- A `.csv` file with with both coordinates and labels combined (`*_xy_combined.csv`)\n",
    "- A `.pdf` figure showing the labeled region\n",
    "\n",
    "\n",
    "The datasets created by this tool are used in the modules `../C_oblique_decision_tree_benchmark` and `../D_visual_comparisons_sd_vs_oblique` for benchmarking oblique decision tree algorithms and established scenario discovery algorithms. \n",
    "\n",
    "For loading saved datasets, use the [`load_shape_dataset()`](../src/load_shapes.py) function provided in the `../src/load_shapes.py` module. If you're reading this in a notebook, links may not work directly. In that case use the file tree instead."
   ],
   "metadata": {
    "collapsed": false
   },
   "id": "e06c0315af6599ee"
  },
  {
   "cell_type": "markdown",
   "source": [
    "### Be aware this can take up to 1 minute."
   ],
   "metadata": {
    "collapsed": false
   },
   "id": "586bb3793adfbb08"
  },
  {
   "cell_type": "code",
   "outputs": [
    {
     "data": {
      "text/plain": "Tab(children=(VBox(children=(interactive(children=(IntSlider(value=5000, description='Samples', layout=Layout(…",
      "application/vnd.jupyter.widget-view+json": {
       "version_major": 2,
       "version_minor": 0,
       "model_id": "0b45b8c1e22e4822bdd0ae57e8e9a0b8"
      }
     },
     "metadata": {},
     "output_type": "display_data"
    }
   ],
   "source": [
    "from ipywidgets import Tab\n",
    "from IPython.display import display\n",
    "import interfaces_ui as iface\n",
    "\n",
    "# Create individual interfaces using functions defined in interfaces.py\n",
    "rectangle_2d_interface = iface.create_2d_rectangle_interface()\n",
    "radial_segment_2d_interface = iface.create_2d_radial_segment_interface()  \n",
    "barbell_2d_interface = iface.create_2d_barbell_interface()\n",
    "sine_wave_2d_interface = iface.create_2d_sine_wave_interface()\n",
    "star_2d_interface = iface.create_2d_star_interface()  \n",
    "radial_segment_3d_interface = iface.create_3d_radial_segment_interface()  \n",
    "barbell_3d_interface = iface.create_3d_barbell_interface()\n",
    "saddle_3d_interface = iface.create_3d_saddle_interface()  \n",
    "\n",
    "# Create a tab widget with each interface as a separate tab\n",
    "tab = Tab(children=[rectangle_2d_interface, radial_segment_2d_interface, barbell_2d_interface, sine_wave_2d_interface, star_2d_interface,\n",
    "                    radial_segment_3d_interface, barbell_3d_interface, saddle_3d_interface])\n",
    "tab.set_title(0, \"2D Rectangle\")\n",
    "tab.set_title(1, \"2D Radial Segment\")\n",
    "tab.set_title(2, \"2D Barbell\")\n",
    "tab.set_title(3, \"2D Sine Wave\")\n",
    "tab.set_title(4, \"2D Star\")\n",
    "tab.set_title(5, \"3D Radial Segment\")\n",
    "tab.set_title(6, \"3D Barbell\")\n",
    "tab.set_title(7, \"3D Saddle\")\n",
    "\n",
    "# Display the widget\n",
    "display(tab)"
   ],
   "metadata": {
    "collapsed": false,
    "ExecuteTime": {
     "end_time": "2025-06-05T10:18:23.666251Z",
     "start_time": "2025-06-05T10:18:20.202967Z"
    }
   },
   "id": "4b3e2481b59cc6b3",
   "execution_count": 1
  }
 ],
 "metadata": {
  "kernelspec": {
   "display_name": "Python 3",
   "language": "python",
   "name": "python3"
  },
  "language_info": {
   "codemirror_mode": {
    "name": "ipython",
    "version": 2
   },
   "file_extension": ".py",
   "mimetype": "text/x-python",
   "name": "python",
   "nbconvert_exporter": "python",
   "pygments_lexer": "ipython2",
   "version": "2.7.6"
  }
 },
 "nbformat": 4,
 "nbformat_minor": 5
}
