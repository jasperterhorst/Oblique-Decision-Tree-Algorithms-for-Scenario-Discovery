{
 "cells": [
  {
   "cell_type": "markdown",
   "source": [
    "# Interactive Test Shape Generation Interface\n",
    "\n",
    "This notebook provides an environment for generating and visualizing a variety of geometric shapes. It is designed to offer an intuitive experience for examining the visual characteristics of each shape in detail before their incorporation into subsequent analytical workflows. After executing the cell below, an organized interface with separate tabs is created, with each tab corresponding to a different 2D or 3D shape. This layout facilitates easy navigation and focused interaction with individual shapes.\n",
    "\n",
    "Within each tab, the outputted shapes and figures can be customized. A text field is available for renaming output files according to specified preferences, ensuring that experiments remain well-organized and that file names reflect the set parameters. Titles are automatically prefixed with \"2d\" or \"3d\" based on the shape type. Also, the interface includes a suite of sliders and numeric inputs that allow for the adjustment of critical parameters such as sample size, shape dimensions, and rotation angles. Immediate feedback from real-time plot updates enables a visual assessment of how each modification influences the shape, thereby facilitating the fine-tuning of settings to achieve the desired geometries.\n",
    "\n",
    "A dedicated save button is present in every tab, which, when clicked, exports both the current visualization and its corresponding data to the designated directory (`../data/shapes/{shape_name}`). The data is organized into two separate CSV files – one containing the sample coordinates, and the other recording the binary classifications that indicate whether each point lies inside or outside the shape. The visualization itself is saved as a PDF file. \n",
    "\n",
    "The outputs generated here are specifically formatted for seamless integration with techniques such as those from the EMA Workbench (PRIM, PCA-PRIM, and CART) and Oblique Decision Method that will be used in this research. The saved shape datasets for `x` and `y` can be loaded into a dictionary where they are paired for each shape using the `load_shape_dataset` function from the `load_shapes.py` file in this folder. "
   ],
   "metadata": {
    "collapsed": false
   },
   "id": "7b5dde279963de89"
  },
  {
   "cell_type": "markdown",
   "source": [
    "### Be aware this can take up to 1 minute."
   ],
   "metadata": {
    "collapsed": false
   },
   "id": "586bb3793adfbb08"
  },
  {
   "cell_type": "code",
   "outputs": [
    {
     "data": {
      "text/plain": "Tab(children=(VBox(children=(interactive(children=(IntSlider(value=5000, description='Samples', layout=Layout(…",
      "application/vnd.jupyter.widget-view+json": {
       "version_major": 2,
       "version_minor": 0,
       "model_id": "84f1609f20fa4fd291ebd50aca3872e7"
      }
     },
     "metadata": {},
     "output_type": "display_data"
    }
   ],
   "source": [
    "from ipywidgets import Tab\n",
    "from IPython.display import display\n",
    "import interfaces_ui as iface\n",
    "\n",
    "# Create individual interfaces using functions defined in interfaces.py\n",
    "rectangle_2d_interface = iface.create_2d_rectangle_interface()\n",
    "radial_segment_2d_interface = iface.create_2d_radial_segment_interface()  \n",
    "barbell_2d_interface = iface.create_2d_barbell_interface()\n",
    "sine_wave_2d_interface = iface.create_2d_sine_wave_interface()\n",
    "star_2d_interface = iface.create_2d_star_interface()  \n",
    "radial_segment_3d_interface = iface.create_3d_radial_segment_interface()  \n",
    "barbell_3d_interface = iface.create_3d_barbell_interface()\n",
    "saddle_3d_interface = iface.create_3d_saddle_interface()  \n",
    "\n",
    "# Create a tab widget with each interface as a separate tab\n",
    "tab = Tab(children=[rectangle_2d_interface, radial_segment_2d_interface, barbell_2d_interface, sine_wave_2d_interface, star_2d_interface,\n",
    "                    radial_segment_3d_interface, barbell_3d_interface, saddle_3d_interface])\n",
    "tab.set_title(0, \"2D Rectangle\")\n",
    "tab.set_title(1, \"2D Radial Segment\")\n",
    "tab.set_title(2, \"2D Barbell\")\n",
    "tab.set_title(3, \"2D Sine Wave\")\n",
    "tab.set_title(4, \"2D Star\")\n",
    "tab.set_title(5, \"3D Radial Segment\")\n",
    "tab.set_title(6, \"3D Barbell\")\n",
    "tab.set_title(7, \"3D Saddle\")\n",
    "\n",
    "# Display the widget\n",
    "display(tab)"
   ],
   "metadata": {
    "collapsed": false,
    "ExecuteTime": {
     "end_time": "2025-05-02T09:41:35.589335Z",
     "start_time": "2025-05-02T09:41:29.832806Z"
    }
   },
   "id": "4b3e2481b59cc6b3",
   "execution_count": 3
  },
  {
   "cell_type": "code",
   "outputs": [],
   "source": [],
   "metadata": {
    "collapsed": false
   },
   "id": "56743ce0128a8396"
  }
 ],
 "metadata": {
  "kernelspec": {
   "display_name": "Python 3",
   "language": "python",
   "name": "python3"
  },
  "language_info": {
   "codemirror_mode": {
    "name": "ipython",
    "version": 2
   },
   "file_extension": ".py",
   "mimetype": "text/x-python",
   "name": "python",
   "nbconvert_exporter": "python",
   "pygments_lexer": "ipython2",
   "version": "2.7.6"
  }
 },
 "nbformat": 4,
 "nbformat_minor": 5
}
