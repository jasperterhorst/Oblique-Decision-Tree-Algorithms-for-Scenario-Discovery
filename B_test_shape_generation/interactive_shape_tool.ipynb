{
 "cells": [
  {
   "cell_type": "markdown",
   "source": [
    "# Interactive Test Shape Generation Interface\n",
    "\n",
    "This notebook offers an environment for generating and visualising a variety of geometric shapes. It is designed to provide you with an intuitive experience that allows you to examine the visual characteristics of each shape in detail before they are used in subsequent analytical workflows. After running the cell below, an organized interface with separate tabs is created, each corresponding to a different 2D and 3D shapes. This layout facilitates easy navigation and focused interaction with each individual shape.\n",
    "\n",
    "Within each tab, you can customize the outputted shapes and figures. A text field is provided that lets you rename the output files according to your preferences, ensuring that your experiments remain well-organized and that file names reflect the parameters you have set, these will automatically prefix the title with '2d' or '3d' after the title. Alongside this, the interface includes a suite of sliders and numeric inputs that empower you to adjust critical parameters such as sample size, shape dimensions, and rotation angles. The immediate feedback provided by the real-time plot updates allows you to visually assess how each modification influences the shape, making it easier to fine-tune your settings to achieve the desired shapes.\n",
    "\n",
    "A dedicated save button is present in every tab, which, when clicked, exports both the current visualization and its corresponding data to the designated directory (`../data/shapes/{shape_name}`). The data is organized into two separate CSV files – one containing the sample coordinates, and the other recording the binary classifications that indicate whether each point lies inside or outside the shape. The visualization itself is saved as a PDF file. \n",
    "\n",
    "The outputs generated here are specifically formatted for seamless integration with techniques such as those from the EMA Workbench (PRIM, PCA-PRIM, and CART) and Oblique Decision Method that will be used in this research. The saved shape datasets for `x` and `y` can be loaded into a dictionary where they are paired for each shape using the `load_all_shape_datasets` function from the `load_shapes.py` file in this folder. "
   ],
   "metadata": {
    "collapsed": false
   },
   "id": "7b5dde279963de89"
  },
  {
   "cell_type": "code",
   "outputs": [
    {
     "data": {
      "text/plain": "Tab(children=(VBox(children=(Text(value='Rectangle', description='Shape Name', layout=Layout(width='330px'), s…",
      "application/vnd.jupyter.widget-view+json": {
       "version_major": 2,
       "version_minor": 0,
       "model_id": "08bf0f0a132b4403a9ae0db36501846e"
      }
     },
     "metadata": {},
     "output_type": "display_data"
    }
   ],
   "source": [
    "from ipywidgets import Tab\n",
    "from IPython.display import display\n",
    "import interfaces_ui as iface\n",
    "\n",
    "# Create individual interfaces using functions defined in interfaces.py\n",
    "rectangle_2d_interface = iface.create_2d_rectangle_interface()\n",
    "radial_segment_2d_interface = iface.create_2d_radial_segment_interface()  \n",
    "barbell_2d_interface = iface.create_2d_barbell_interface()\n",
    "sine_wave_2d_interface = iface.create_2d_sine_wave_interface()\n",
    "star_2d_interface = iface.create_2d_star_interface()  \n",
    "radial_segment_3d_interface = iface.create_3d_radial_segment_interface()  \n",
    "barbell_3d_interface = iface.create_3d_barbell_interface()\n",
    "saddle_3d_interface = iface.create_3d_saddle_interface()  \n",
    "\n",
    "# Create a tab widget with each interface as a separate tab\n",
    "tab = Tab(children=[rectangle_2d_interface, radial_segment_2d_interface, barbell_2d_interface, sine_wave_2d_interface, star_2d_interface,\n",
    "                    radial_segment_3d_interface, barbell_3d_interface, saddle_3d_interface])\n",
    "tab.set_title(0, \"2D Rectangle\")\n",
    "tab.set_title(1, \"2D Radial Segment\")\n",
    "tab.set_title(2, \"2D Barbell\")\n",
    "tab.set_title(3, \"2D Sine Wave\")\n",
    "tab.set_title(4, \"2D Star\")\n",
    "tab.set_title(5, \"3D Radial Segment\")\n",
    "tab.set_title(6, \"3D Barbell\")\n",
    "tab.set_title(7, \"3D Saddle\")\n",
    "\n",
    "display(tab)"
   ],
   "metadata": {
    "collapsed": false,
    "ExecuteTime": {
     "end_time": "2025-03-28T13:08:14.825809Z",
     "start_time": "2025-03-28T13:08:11.489502Z"
    }
   },
   "id": "eb6affd0aa1b377f",
   "execution_count": 1
  }
 ],
 "metadata": {
  "kernelspec": {
   "display_name": "Python 3",
   "language": "python",
   "name": "python3"
  },
  "language_info": {
   "codemirror_mode": {
    "name": "ipython",
    "version": 2
   },
   "file_extension": ".py",
   "mimetype": "text/x-python",
   "name": "python",
   "nbconvert_exporter": "python",
   "pygments_lexer": "ipython2",
   "version": "2.7.6"
  }
 },
 "nbformat": 4,
 "nbformat_minor": 5
}
