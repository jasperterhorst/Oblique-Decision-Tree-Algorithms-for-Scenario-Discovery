{
 "cells": [
  {
   "cell_type": "markdown",
   "source": [
    "# HHCART(D) Evaluation on Rectangle Dataset\n",
    " \n",
    "This notebook evaluates the HHCART(D) decision tree algorithm on the 2D Rectangle dataset with 5% label noise. It demonstrates the full pipeline: dataset loading, model training, inspection, and performance visualisation. Structural regularisation parameters are used to decrease over fragmentation of the input space."
   ],
   "metadata": {
    "collapsed": false
   },
   "id": "324c9629ec90616b"
  },
  {
   "cell_type": "code",
   "outputs": [],
   "source": [
    "from HHCART_SD import HHCartD, load_model\n",
    "from src.load_shapes import load_shape_dataset"
   ],
   "metadata": {
    "collapsed": false,
    "ExecuteTime": {
     "end_time": "2025-06-20T08:20:01.024331Z",
     "start_time": "2025-06-20T08:19:58.606105Z"
    }
   },
   "id": "eba2a73da2917842",
   "execution_count": 1
  },
  {
   "cell_type": "code",
   "outputs": [
    {
     "name": "stdout",
     "output_type": "stream",
     "text": [
      "\n",
      "Loaded 32 paired datasets: ['barbell_2d_label_noise_000', 'barbell_3d_label_noise_000', 'radial_segment_2d_label_noise_000', 'radial_segment_3d_label_noise_000', 'rectangle_2d_label_noise_000', 'saddle_3d_label_noise_000', 'sine_wave_2d_label_noise_000', 'star_2d_label_noise_000', 'barbell_2d_label_noise_003', 'barbell_3d_label_noise_003', 'radial_segment_2d_label_noise_003', 'radial_segment_3d_label_noise_003', 'rectangle_2d_label_noise_003', 'saddle_3d_label_noise_003', 'sine_wave_2d_label_noise_003', 'star_2d_label_noise_003', 'barbell_2d_label_noise_005', 'barbell_3d_label_noise_005', 'radial_segment_2d_label_noise_005', 'radial_segment_3d_label_noise_005', 'rectangle_2d_label_noise_005', 'saddle_3d_label_noise_005', 'sine_wave_2d_label_noise_005', 'star_2d_label_noise_005', 'barbell_2d_label_noise_007', 'barbell_3d_label_noise_007', 'radial_segment_2d_label_noise_007', 'radial_segment_3d_label_noise_007', 'rectangle_2d_label_noise_007', 'saddle_3d_label_noise_007', 'sine_wave_2d_label_noise_007', 'star_2d_label_noise_007']\n"
     ]
    }
   ],
   "source": [
    "# Load and unpack a specific dataset\n",
    "dataset_name = \"rectangle_2d_label_noise_005\"\n",
    "X, y = load_shape_dataset(folder_name=\"shapes\")[dataset_name]"
   ],
   "metadata": {
    "collapsed": false,
    "ExecuteTime": {
     "end_time": "2025-06-20T08:20:01.796809Z",
     "start_time": "2025-06-20T08:20:01.029857Z"
    }
   },
   "id": "74e82ece6bb926ec",
   "execution_count": 2
  },
  {
   "cell_type": "code",
   "outputs": [
    {
     "name": "stdout",
     "output_type": "stream",
     "text": [
      "[INFO] Building HHCartD oblique decision tree...\n",
      "[INFO] Max number of nodes allowed by maximum depth constraint: 511 (used as progress bar target; actual number of splits unknown in advance).\n"
     ]
    },
    {
     "name": "stderr",
     "output_type": "stream",
     "text": [
      "Building tree nodes:   1%|          | 4/511 [01:44<3:31:19, 25.01s/it]"
     ]
    }
   ],
   "source": [
    "# Set tree parameters\n",
    "max_depth = 8\n",
    "min_purity = 0.8\n",
    "mass_min = 0.05\n",
    "\n",
    "# Instantiate HHCART, build and save tree\n",
    "hh = HHCartD(X, y, min_purity=min_purity, mass_min=mass_min, max_depth=max_depth)\n",
    "hh.build_tree(f\"{dataset_name}_max_depth_{max_depth}_pur_{str(min_purity).replace('.', '_')}_mass_{str(mass_min).replace('.', '_')}\")"
   ],
   "metadata": {
    "collapsed": false,
    "is_executing": true,
    "ExecuteTime": {
     "start_time": "2025-06-20T08:20:01.798977Z"
    }
   },
   "id": "b2da5014212fcfd7",
   "execution_count": null
  },
  {
   "cell_type": "code",
   "outputs": [],
   "source": [
    "hh = load_model(\"rectangle_2d_label_noise_005_max_depth_8_pur_0_85_mass_0_05\")"
   ],
   "metadata": {
    "collapsed": false,
    "is_executing": true
   },
   "id": "d3e3632a66723ce2",
   "execution_count": null
  },
  {
   "cell_type": "code",
   "outputs": [],
   "source": [
    "hh.select(depth=3)\n",
    "hh.inspect()"
   ],
   "metadata": {
    "collapsed": false,
    "is_executing": true
   },
   "id": "a1a83f8fbb5617e8",
   "execution_count": null
  },
  {
   "cell_type": "code",
   "outputs": [],
   "source": [
    "hh.plot_tree_structure(depth=5, save=True)"
   ],
   "metadata": {
    "collapsed": false,
    "is_executing": true
   },
   "id": "fa58ea2c674cb222",
   "execution_count": null
  },
  {
   "cell_type": "code",
   "outputs": [],
   "source": [
    "hh.plot_metrics_vs_structure(save=True)"
   ],
   "metadata": {
    "collapsed": false,
    "is_executing": true
   },
   "id": "6dffb9190a16d00a",
   "execution_count": null
  },
  {
   "cell_type": "code",
   "outputs": [],
   "source": [
    "hh.plot_metrics_vs_structure(save=True, x_axis=\"class1_leaf_count\")"
   ],
   "metadata": {
    "collapsed": false,
    "is_executing": true
   },
   "id": "910276dadeb7cb74",
   "execution_count": null
  },
  {
   "cell_type": "code",
   "outputs": [],
   "source": [
    "hh.plot_tradeoff_path(save=True)"
   ],
   "metadata": {
    "collapsed": false,
    "is_executing": true
   },
   "id": "71ff47b73db36177",
   "execution_count": null
  },
  {
   "cell_type": "code",
   "outputs": [],
   "source": [
    "hh.plot_tradeoff_path(save=True, color_by=\"class1_leaf_count\")"
   ],
   "metadata": {
    "collapsed": false,
    "is_executing": true
   },
   "id": "f19c205b08eca518",
   "execution_count": null
  },
  {
   "cell_type": "code",
   "outputs": [],
   "source": [
    "hh.plot_node_size_distribution(save=True)"
   ],
   "metadata": {
    "collapsed": false,
    "is_executing": true
   },
   "id": "dee46c33f7cb0202",
   "execution_count": null
  },
  {
   "cell_type": "code",
   "outputs": [],
   "source": [
    "hh.plot_splits_2d_grid(save=True)"
   ],
   "metadata": {
    "collapsed": false,
    "is_executing": true
   },
   "id": "5721638847a56dc4",
   "execution_count": null
  },
  {
   "cell_type": "code",
   "outputs": [],
   "source": [
    "hh.plot_splits_2d_overlay(save=True)"
   ],
   "metadata": {
    "collapsed": false,
    "is_executing": true
   },
   "id": "f0baf57781de7ad1",
   "execution_count": null
  },
  {
   "cell_type": "code",
   "outputs": [],
   "source": [
    "hh.plot_regions_2d_grid(save=True)"
   ],
   "metadata": {
    "collapsed": false,
    "is_executing": true
   },
   "id": "72b22feaa00476b1",
   "execution_count": null
  }
 ],
 "metadata": {
  "kernelspec": {
   "display_name": "Python 3",
   "language": "python",
   "name": "python3"
  },
  "language_info": {
   "codemirror_mode": {
    "name": "ipython",
    "version": 2
   },
   "file_extension": ".py",
   "mimetype": "text/x-python",
   "name": "python",
   "nbconvert_exporter": "python",
   "pygments_lexer": "ipython2",
   "version": "2.7.6"
  }
 },
 "nbformat": 4,
 "nbformat_minor": 5
}
