{
 "cells": [
  {
   "cell_type": "code",
   "outputs": [],
   "source": [
    "from D_oblique_decision_trees.evaluation.benchmark_runner import DepthSweepRunner\n",
    "from src.load_shapes import load_all_shape_datasets\n",
    "\n",
    "all_data = load_all_shape_datasets()"
   ],
   "metadata": {
    "collapsed": false,
    "is_executing": true
   },
   "id": "7de7a2041cafa968",
   "execution_count": null
  },
  {
   "cell_type": "code",
   "outputs": [],
   "source": [
    "datasets_2d_dict = {\n",
    "  \"barbell_2d\": all_data[\"barbell_2d\"],\n",
    "  \"sine_wave_2d\": all_data[\"sine_wave_2d\"],\n",
    "  \"star_2d\": all_data[\"star_2d\"],\n",
    "  \"radial_segment_2d\": all_data[\"radial_segment_2d\"],\n",
    "  \"rectangle_2d\": all_data[\"rectangle_2d\"]\n",
    "}\n",
    "\n",
    "# datasets_3d_dict = {\n",
    "#   \"barbell_3d\": all_data[\"barbell_3d\"],\n",
    "#   \"radial_segment_3d\": all_data[\"radial_segment_3d\"],\n",
    "#   \"saddle_3d\": all_data[\"saddle_3d\"]\n",
    "# }\n",
    "\n",
    "runner = DepthSweepRunner(datasets_2d_dict, max_depth=7)\n",
    "df = runner.run()\n",
    "\n",
    "df = runner.reorder_and_print(df)\n",
    "runner.plot_results(df, metric=\"accuracy\")            # separate lines per dataset\n",
    "runner.plot_aggregated_metric(df, metric=\"accuracy\")  # single line per algorithm, averaged across datasets\n",
    "runner.save_results(df, \"my_depth_sweep.csv\")"
   ],
   "metadata": {
    "collapsed": false,
    "is_executing": true
   },
   "id": "52bf8badb6a625b3",
   "execution_count": null
  },
  {
   "cell_type": "code",
   "outputs": [],
   "source": [],
   "metadata": {
    "collapsed": false
   },
   "id": "763cfee39f5f8b76"
  },
  {
   "cell_type": "code",
   "outputs": [],
   "source": [],
   "metadata": {
    "collapsed": false
   },
   "id": "682843addeeff66c"
  },
  {
   "cell_type": "code",
   "outputs": [],
   "source": [],
   "metadata": {
    "collapsed": false
   },
   "id": "1c794bc9a7546b7e"
  },
  {
   "cell_type": "code",
   "outputs": [],
   "source": [
    "import matplotlib.pyplot as plt\n",
    "from sklearn.preprocessing import MinMaxScaler\n",
    "from src.load_shapes import load_all_shape_datasets\n",
    "\n",
    "from D_oblique_decision_trees.converters.dispatcher import convert_tree\n",
    "from D_oblique_decision_trees.visualisation import plot_decision_boundaries, print_tree_structure\n",
    "\n",
    "from Ensembles_of_Oblique_Decision_Trees.Decision_trees.HouseHolder_CART import HHCartClassifier\n",
    "from Ensembles_of_Oblique_Decision_Trees.Decision_trees.RandCART import RandCARTClassifier\n",
    "from Ensembles_of_Oblique_Decision_Trees.Decision_trees.CO2 import CO2Classifier\n",
    "from Ensembles_of_Oblique_Decision_Trees.Decision_trees.Oblique_Classifier_1 import ObliqueClassifier1\n",
    "from Ensembles_of_Oblique_Decision_Trees.Decision_trees.WODT import WeightedObliqueDecisionTreeClassifier\n",
    "from Ensembles_of_Oblique_Decision_Trees.Decision_trees.segmentor import MeanSegmentor\n",
    "from Ensembles_of_Oblique_Decision_Trees.Decision_trees.split_criteria import gini"
   ],
   "metadata": {
    "collapsed": false
   },
   "id": "67e3b927691a623a",
   "execution_count": null
  },
  {
   "cell_type": "code",
   "outputs": [],
   "source": [
    "# Load & scale dataset\n",
    "datasets = load_all_shape_datasets()\n",
    "X, y = datasets[\"barbell_2d\"]"
   ],
   "metadata": {
    "collapsed": false
   },
   "id": "6899a846c558bbc9",
   "execution_count": null
  },
  {
   "cell_type": "code",
   "outputs": [],
   "source": [
    "model_registry = {\n",
    "    \"hhcart\": lambda: HHCartClassifier(impurity=gini, segmentor=MeanSegmentor(), max_depth=7),\n",
    "    \"randcart\": lambda: RandCARTClassifier(impurity=gini, segmentor=MeanSegmentor(), max_depth=7),\n",
    "    \"oc1\": lambda: ObliqueClassifier1(max_depth=7, min_samples_split=2),\n",
    "    \"wodt\": lambda: WeightedObliqueDecisionTreeClassifier(max_depth=7, min_samples_split=2, max_features='all')\n",
    "}"
   ],
   "metadata": {
    "collapsed": false
   },
   "id": "f1a258190546e418",
   "execution_count": null
  },
  {
   "cell_type": "code",
   "outputs": [],
   "source": [
    "# model_registry = {\"co2\": lambda: CO2Classifier(impurity=gini, segmentor=MeanSegmentor(), max_depth=8)}"
   ],
   "metadata": {
    "collapsed": false
   },
   "id": "ba32a2c7a74a7e71",
   "execution_count": null
  },
  {
   "cell_type": "code",
   "outputs": [],
   "source": [
    "ncols = 2\n",
    "nrows = (len(model_registry) + ncols - 1) // ncols\n",
    "fig, axes = plt.subplots(nrows, ncols, figsize=(5 * ncols, 5 * nrows))\n",
    "axes = axes.flatten()\n",
    "\n",
    "for i, (model_type, constructor) in enumerate(model_registry.items()):\n",
    "    model = constructor()\n",
    "    model.fit(X, y)\n",
    "\n",
    "    tree = convert_tree(model, model_type=model_type)\n",
    "    ax = axes[i]\n",
    "    print_tree_structure(tree)\n",
    "    plot_decision_boundaries(tree, X, y, ax=ax, xlim=(0, 1), ylim=(0, 1))\n",
    "    # plot_decision_boundaries(tree, X, y, ax=ax, xlim=(-3, 3), ylim=(-3, 3))\n",
    "    ax.set_title(f\"{model_type.upper()}\")\n",
    "\n",
    "for j in range(i + 1, len(axes)):\n",
    "    axes[j].axis(\"off\")\n",
    "\n",
    "plt.tight_layout()\n",
    "plt.show()"
   ],
   "metadata": {
    "collapsed": false
   },
   "id": "d7080c1466e5efb",
   "execution_count": null
  },
  {
   "cell_type": "code",
   "outputs": [],
   "source": [
    "from evaluation.evaluator import evaluate_tree\n",
    "import pandas as pd\n",
    "import time\n",
    "\n",
    "# Filter to 2D datasets only\n",
    "datasets_2d = {name: (X, y) for name, (X, y) in datasets.items() if X.shape[1] == 3}\n",
    "\n",
    "results = []\n",
    "\n",
    "for dataset_name, (X, y) in datasets_2d.items():\n",
    "    for model_name, constructor in model_registry.items():\n",
    "        print(f\"Running {model_name} on {dataset_name}...\")\n",
    "        model = constructor()\n",
    "\n",
    "        start = time.time()\n",
    "        model.fit(X, y)\n",
    "        end = time.time()\n",
    "\n",
    "        tree = convert_tree(model, model_type=model_name)\n",
    "\n",
    "        metrics = evaluate_tree(tree, X, y, training_time=end - start)\n",
    "        metrics[\"model\"] = model_name\n",
    "        metrics[\"dataset\"] = dataset_name\n",
    "        results.append(metrics)\n",
    "\n",
    "df_results = pd.DataFrame(results)"
   ],
   "metadata": {
    "collapsed": false
   },
   "id": "a32d85c12dcd643c",
   "execution_count": null
  },
  {
   "cell_type": "code",
   "outputs": [],
   "source": [
    "import seaborn as sns\n",
    "import matplotlib.pyplot as plt\n",
    "\n",
    "sns.barplot(data=df_results, x=\"dataset\", y=\"accuracy\", hue=\"model\")\n",
    "plt.xticks(rotation=45)\n",
    "plt.title(\"Model Accuracy per Dataset\")\n",
    "plt.tight_layout()\n",
    "plt.show()"
   ],
   "metadata": {
    "collapsed": false
   },
   "id": "c1063cc3e954d48",
   "execution_count": null
  }
 ],
 "metadata": {
  "kernelspec": {
   "display_name": "Python 3",
   "language": "python",
   "name": "python3"
  },
  "language_info": {
   "codemirror_mode": {
    "name": "ipython",
    "version": 2
   },
   "file_extension": ".py",
   "mimetype": "text/x-python",
   "name": "python",
   "nbconvert_exporter": "python",
   "pygments_lexer": "ipython2",
   "version": "2.7.6"
  }
 },
 "nbformat": 4,
 "nbformat_minor": 5
}
