{
 "cells": [
  {
   "cell_type": "code",
   "execution_count": 1,
   "id": "initial_id",
   "metadata": {
    "collapsed": true,
    "ExecuteTime": {
     "end_time": "2025-04-01T14:28:32.927559Z",
     "start_time": "2025-04-01T14:28:31.542871Z"
    }
   },
   "outputs": [],
   "source": [
    "import os\n",
    "import pandas as pd\n",
    "import matplotlib.pyplot as plt\n",
    "\n",
    "from D_restructured.evaluation.benchmark_runner import DepthSweepRunner\n",
    "from D_restructured.visualization import (\n",
    "    plot_tradeoff_for_oblique_tree,\n",
    "    plot_results,\n",
    "    plot_aggregated_metric\n",
    ")\n",
    "from src.load_shapes import load_all_shape_datasets"
   ]
  },
  {
   "cell_type": "code",
   "outputs": [],
   "source": [
    "all_data = load_all_shape_datasets()\n",
    "\n",
    "all_datasets_dict = {\n",
    "    \"barbell_2d\": all_data[\"barbell_2d\"],\n",
    "    \"sine_wave_2d\": all_data[\"sine_wave_2d\"],\n",
    "    \"star_2d\": all_data[\"star_2d\"],\n",
    "    \"radial_segment_2d\": all_data[\"radial_segment_2d\"],\n",
    "    \"rectangle_2d\": all_data[\"rectangle_2d\"],\n",
    "    \"barbell_3d\": all_data[\"barbell_3d\"],\n",
    "    \"radial_segment_3d\": all_data[\"radial_segment_3d\"],\n",
    "    \"saddle_3d\": all_data[\"saddle_3d\"]\n",
    "}\n",
    "\n",
    "runner = DepthSweepRunner(all_datasets_dict, max_depth=10)\n",
    "depth_sweep_df = runner.run()\n",
    "depth_sweep_df = runner.reorder_and_print(depth_sweep_df)\n",
    "runner.save_results(depth_sweep_df, \"depth_sweep.csv\")\n",
    "\n",
    "datasets_2d_dict = {\n",
    "    \"barbell_2d\": all_data[\"barbell_2d\"],\n",
    "    \"sine_wave_2d\": all_data[\"sine_wave_2d\"],\n",
    "    \"star_2d\": all_data[\"star_2d\"],\n",
    "    \"radial_segment_2d\": all_data[\"radial_segment_2d\"],\n",
    "    \"rectangle_2d\": all_data[\"rectangle_2d\"]\n",
    "}\n",
    "\n",
    "runner = DepthSweepRunner(datasets_2d_dict, max_depth=10)\n",
    "depth_sweep_2d_df = runner.run()\n",
    "depth_sweep_2d_df = runner.reorder_and_print(depth_sweep_2d_df)\n",
    "runner.save_results(depth_sweep_2d_df, \"depth_sweep_2d.csv\")\n",
    "\n",
    "# Plot per-dataset and aggregated results for 2D data\n",
    "plot_results(depth_sweep_2d_df, title=\"Accuracy vs. Depth (per 2D dataset)\",\n",
    "             metric=\"accuracy\", x_lim=(0, 10), y_lim=(0.0, 1.0),\n",
    "             xlabel=\"Depth\", ylabel=\"Accuracy\", save_name=\"separate_accuracy_2d.pdf\")\n",
    "\n",
    "plot_aggregated_metric(depth_sweep_2d_df, title=\"Accuracy vs. Depth (averaged over 2D datasets)\",\n",
    "                       metric=\"accuracy\", x_lim=(0, 10), y_lim=(0.0, 1.0),\n",
    "                       xlabel=\"Depth\", ylabel=\"Accuracy\", save_name=\"aggregated_accuracy_2d.pdf\")\n",
    "\n",
    "datasets_3d_dict = {\n",
    "    \"barbell_3d\": all_data[\"barbell_3d\"],\n",
    "    \"radial_segment_3d\": all_data[\"radial_segment_3d\"],\n",
    "    \"saddle_3d\": all_data[\"saddle_3d\"]\n",
    "}\n",
    "\n",
    "runner = DepthSweepRunner(datasets_3d_dict, max_depth=10)\n",
    "depth_sweep_3d_df = runner.run()\n",
    "depth_sweep_3d_df = runner.reorder_and_print(depth_sweep_3d_df)\n",
    "runner.save_results(depth_sweep_3d_df, \"depth_sweep_3d.csv\")\n",
    "\n",
    "# Construct file path and load the CSV (works on Windows, macOS, Linux)\n",
    "data_dir = os.path.join(\"..\", \"_data\", \"depth_sweep_batch_results\")\n",
    "results_file = os.path.join(data_dir, \"depth_sweep_3d.csv\")\n",
    "depth_sweep_3d_df = pd.read_csv(results_file)\n",
    "\n",
    "# Plot per-dataset results: Coverage vs. Depth\n",
    "DepthSweepRunner.plot_results(depth_sweep_3d_df, title=\"Coverage vs. Depth (per 3D dataset)\",\n",
    "                              metric=\"coverage\", x_lim=(0, 10), y_lim=(0.0, 1.0),\n",
    "                              xlabel=\"Depth\", ylabel=\"Coverage\", save_name=\"separate_coverage_3d.pdf\")\n",
    "\n",
    "# Plot aggregated results: Density vs. Depth\n",
    "DepthSweepRunner.plot_aggregated_metric(depth_sweep_3d_df, title=\"Density vs. Depth (averaged over 3D datasets)\",\n",
    "                                        metric=\"density\", x_lim=(0, 10), y_lim=(0.0, 1.0),\n",
    "                                        xlabel=\"Depth\", ylabel=\"Density\", save_name=\"separate_density_3d.pdf\")\n",
    "\n",
    "# Load CSV results for trade-off plots\n",
    "results_df = pd.read_csv(os.path.join(data_dir, \"depth_sweep_3d.csv\"))\n",
    "\n",
    "# For example, plot trade-off for algorithm \"oc1\" on dataset \"radial_segment_3d\",\n",
    "# with points colored by depth (using viridis colormap)\n",
    "plot_tradeoff_for_oblique_tree(results_df, \"oc1\", \"radial_segment_3d\",\n",
    "                               color_metric=\"depth\", cmap=\"viridis\")\n"
   ],
   "metadata": {
    "collapsed": false
   },
   "id": "ea86b126d5cb886a"
  }
 ],
 "metadata": {
  "kernelspec": {
   "display_name": "Python 3",
   "language": "python",
   "name": "python3"
  },
  "language_info": {
   "codemirror_mode": {
    "name": "ipython",
    "version": 2
   },
   "file_extension": ".py",
   "mimetype": "text/x-python",
   "name": "python",
   "nbconvert_exporter": "python",
   "pygments_lexer": "ipython2",
   "version": "2.7.6"
  }
 },
 "nbformat": 4,
 "nbformat_minor": 5
}
