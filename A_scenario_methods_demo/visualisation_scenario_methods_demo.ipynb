{
 "cells": [
  {
   "cell_type": "markdown",
   "source": [
    "# Scenario Discovery Demo: PRIM, PCA–PRIM, and CART\n",
    "\n",
    "This interactive notebook demonstrates how different scenario discovery algorithms isolate regions of interest in a 2D input space.  \n",
    "You can explore the behaviour of PRIM, PCA–PRIM, and CART by adjusting dataset and algorithm settings.\n",
    "\n",
    "All results are saved to:\n",
    "\n",
    "`_data/scenario_methods_demo_outputs/`"
   ],
   "metadata": {
    "collapsed": false
   },
   "id": "fb2d505e68748bf2"
  },
  {
   "cell_type": "code",
   "outputs": [],
   "source": [
    "# === Imports and Setup ===\n",
    "import os\n",
    "import sys\n",
    "sys.path.insert(0, os.path.abspath(\"..\")) \n",
    "\n",
    "import numpy as np\n",
    "import ipywidgets as widgets\n",
    "from IPython.display import display\n",
    "\n",
    "from notebook_helpers import update_plots, save_prim_plots, save_cart_plots"
   ],
   "metadata": {
    "collapsed": false,
    "ExecuteTime": {
     "end_time": "2025-05-15T21:34:12.019647Z",
     "start_time": "2025-05-15T21:34:09.864222Z"
    }
   },
   "id": "2005b8ac24cf811",
   "execution_count": 1
  },
  {
   "cell_type": "markdown",
   "source": [
    "## Configuration Panel\n",
    "\n",
    "Use the sliders below to control:\n",
    "\n",
    "- **Dataset Size**: Total number of generated points\n",
    "- **Quadrilateral Corners**: Defines the region of interest\n",
    "- **Noise Settings**: Adjust class noise inside/outside the shape\n",
    "- **Algorithm Settings**: Configure PRIM and CART behaviour"
   ],
   "metadata": {
    "collapsed": false
   },
   "id": "a8bee558ea54e13d"
  },
  {
   "cell_type": "code",
   "outputs": [],
   "source": [
    "# Create input widgets\n",
    "num_dots_slider = widgets.IntSlider(value=1700, min=100, max=2500, step=100, description=\"Num Dots\")\n",
    "default_quad = np.array([0.3, 0.9, 0.9, 0.7, 1.0, 0.4, 0.2, 0.55])\n",
    "corner_labels = [\"Corner 1 X\", \"Corner 1 Y\", \"Corner 2 X\", \"Corner 2 Y\",\n",
    "                 \"Corner 3 X\", \"Corner 3 Y\", \"Corner 4 X\", \"Corner 4 Y\"]\n",
    "quad_sliders = [widgets.FloatSlider(value=val, min=0.0, max=1.0, step=0.05, description=lbl)\n",
    "                for lbl, val in zip(corner_labels, default_quad)]\n",
    "frac_inside_slider = widgets.FloatSlider(value=0.95, min=0.7, max=1.0, step=0.05, description=\"Frac Inside\")\n",
    "frac_outside_slider = widgets.FloatSlider(value=0.05, min=0.0, max=0.3, step=0.05, description=\"Frac Outside\")\n",
    "peel_frac_slider = widgets.FloatSlider(value=0.10, min=0.0, max=0.5, step=0.05, description=\"Peel Frac\")\n",
    "prim_mass_min_slider = widgets.FloatSlider(value=0.05, min=0.0, max=1.0, step=0.01, description=\"PRIM Mass Min\")\n",
    "cart_mass_min_slider = widgets.FloatSlider(value=0.05, min=0.0, max=1.0, step=0.01, description=\"CART Mass Min\")\n",
    "save_prim_button = widgets.Button(description=\"Save PRIM Plots\")\n",
    "save_cart_button = widgets.Button(description=\"Save CART Plots\")"
   ],
   "metadata": {
    "collapsed": false,
    "ExecuteTime": {
     "end_time": "2025-05-15T21:34:13.292557Z",
     "start_time": "2025-05-15T21:34:13.278572Z"
    }
   },
   "id": "3a82a6ab2bf2113f",
   "execution_count": 2
  },
  {
   "cell_type": "markdown",
   "source": [
    "## Output Grid\n",
    "\n",
    "This tool generates nine visual outputs in a 3×3 layout:\n",
    "\n",
    "1. Sampled data with class labels  \n",
    "2. PRIM box evolution over iterations  \n",
    "3. PRIM peeling trajectory  \n",
    "4. PCA–rotated input space  \n",
    "5. PCA–PRIM box evolution (in rotated space)  \n",
    "6. PCA–PRIM box evolution (in original space)  \n",
    "7. PCA–PRIM peeling trajectory  \n",
    "8. PRIM vs. PCA–PRIM trajectory comparison  \n",
    "9. CART decision regions + coverage table"
   ],
   "metadata": {
    "collapsed": false
   },
   "id": "398535211ddb7a2d"
  },
  {
   "cell_type": "code",
   "outputs": [],
   "source": [
    "# Create output areas\n",
    "plot_outputs = [widgets.Output(layout=widgets.Layout(width=\"100%\", height=\"300px\"))\n",
    "                for _ in range(9)]\n",
    "table_output = widgets.Output(layout=widgets.Layout(width=\"100%\", height=\"150px\"))\n",
    "grid = widgets.GridspecLayout(3, 3, width=\"12in\", height=\"9in\")\n",
    "for i in range(3):\n",
    "    for j in range(3):\n",
    "        grid[i, j] = plot_outputs[i * 3 + j]"
   ],
   "metadata": {
    "collapsed": false,
    "ExecuteTime": {
     "end_time": "2025-05-15T21:34:14.681413Z",
     "start_time": "2025-05-15T21:34:14.670334Z"
    }
   },
   "id": "da00b8be06295896",
   "execution_count": 3
  },
  {
   "cell_type": "markdown",
   "source": [
    "## Plot Update Logic\n",
    "\n",
    "This function runs when any slider is changed. It updates all plot panels and regenerates the decision tree table."
   ],
   "metadata": {
    "collapsed": false
   },
   "id": "39d954a3336e3c8f"
  },
  {
   "cell_type": "code",
   "outputs": [],
   "source": [
    "def on_update(_):\n",
    "    update_plots(\n",
    "        quad_sliders,\n",
    "        num_dots_slider.value,\n",
    "        frac_inside_slider.value,\n",
    "        frac_outside_slider.value,\n",
    "        peel_frac_slider.value,\n",
    "        prim_mass_min_slider.value,\n",
    "        cart_mass_min_slider.value,\n",
    "        plot_outputs,\n",
    "        table_output,\n",
    "    )"
   ],
   "metadata": {
    "collapsed": false,
    "ExecuteTime": {
     "end_time": "2025-05-15T21:34:15.552811Z",
     "start_time": "2025-05-15T21:34:15.549416Z"
    }
   },
   "id": "65502edddb8a2da3",
   "execution_count": 4
  },
  {
   "cell_type": "markdown",
   "source": [
    "## Set Up Observers and Buttons\n",
    "\n",
    "Connect each slider to the `on_update` function and initialise the layout."
   ],
   "metadata": {
    "collapsed": false
   },
   "id": "50f1b129e7302de7"
  },
  {
   "cell_type": "code",
   "outputs": [],
   "source": [
    "# Attach observers\n",
    "num_dots_slider.observe(on_update, names=\"value\")\n",
    "frac_inside_slider.observe(on_update, names=\"value\")\n",
    "frac_outside_slider.observe(on_update, names=\"value\")\n",
    "peel_frac_slider.observe(on_update, names=\"value\")\n",
    "prim_mass_min_slider.observe(on_update, names=\"value\")\n",
    "cart_mass_min_slider.observe(on_update, names=\"value\")\n",
    "for slider in quad_sliders:\n",
    "    slider.observe(on_update, names=\"value\")\n",
    "\n",
    "# Initial update\n",
    "on_update(None)"
   ],
   "metadata": {
    "collapsed": false,
    "ExecuteTime": {
     "end_time": "2025-05-15T21:34:17.926242Z",
     "start_time": "2025-05-15T21:34:16.674482Z"
    }
   },
   "id": "a99db5d007e99172",
   "execution_count": 5
  },
  {
   "cell_type": "markdown",
   "source": [
    "## Save Buttons\n",
    "\n",
    "These buttons export the currently generated plots as PDFs to the output folder."
   ],
   "metadata": {
    "collapsed": false
   },
   "id": "40621e38767fbaf5"
  },
  {
   "cell_type": "code",
   "outputs": [],
   "source": [
    "save_prim_button.on_click(lambda b: save_prim_plots(\n",
    "    quad_sliders,\n",
    "    num_dots_slider.value,\n",
    "    frac_inside_slider.value,\n",
    "    frac_outside_slider.value,\n",
    "    peel_frac_slider.value,\n",
    "    prim_mass_min_slider.value,\n",
    "    cart_mass_min_slider.value,\n",
    "))\n",
    "save_cart_button.on_click(lambda b: save_cart_plots(\n",
    "    quad_sliders,\n",
    "    num_dots_slider.value,\n",
    "    frac_inside_slider.value,\n",
    "    frac_outside_slider.value,\n",
    "    peel_frac_slider.value,\n",
    "    prim_mass_min_slider.value,\n",
    "    cart_mass_min_slider.value\n",
    "))"
   ],
   "metadata": {
    "collapsed": false,
    "ExecuteTime": {
     "end_time": "2025-05-15T21:34:18.781425Z",
     "start_time": "2025-05-15T21:34:18.778400Z"
    }
   },
   "id": "ec9134d70dd34e6a",
   "execution_count": 6
  },
  {
   "cell_type": "markdown",
   "source": [
    "## Display Full Interface\n",
    "\n",
    "Configure the plots using the sliders and when finished click **Save PRIM Plots** or **Save CART Plots** to export results as PDFs.  \n",
    "Files are written under their respective folders inside:\n",
    "\n",
    "`_data/scenario_methods_demo_outputs/`"
   ],
   "metadata": {
    "collapsed": false
   },
   "id": "8f353a73987b6db9"
  },
  {
   "cell_type": "code",
   "outputs": [
    {
     "data": {
      "text/plain": "VBox(children=(IntSlider(value=1700, description='Num Dots', max=2500, min=100, step=100), HBox(children=(Floa…",
      "application/vnd.jupyter.widget-view+json": {
       "version_major": 2,
       "version_minor": 0,
       "model_id": "a485faf2fd7549a09acc4db3f0a7ef31"
      }
     },
     "metadata": {},
     "output_type": "display_data"
    },
    {
     "data": {
      "text/plain": "GridspecLayout(children=(Output(layout=Layout(grid_area='widget001', height='300px', width='100%')), Output(la…",
      "application/vnd.jupyter.widget-view+json": {
       "version_major": 2,
       "version_minor": 0,
       "model_id": "a08e8e36506f45d7bd20601b966161e2"
      }
     },
     "metadata": {},
     "output_type": "display_data"
    },
    {
     "data": {
      "text/plain": "Output(layout=Layout(height='585px', width='100%'))",
      "application/vnd.jupyter.widget-view+json": {
       "version_major": 2,
       "version_minor": 0,
       "model_id": "71e6db89aaf342488a23fe4875642260"
      }
     },
     "metadata": {},
     "output_type": "display_data"
    }
   ],
   "source": [
    "input_widgets = widgets.VBox([\n",
    "    num_dots_slider,\n",
    "    widgets.HBox([frac_inside_slider, frac_outside_slider, peel_frac_slider]),\n",
    "    widgets.HBox(quad_sliders[:4]),\n",
    "    widgets.HBox(quad_sliders[4:]),\n",
    "    widgets.HBox([prim_mass_min_slider, cart_mass_min_slider]),\n",
    "    save_prim_button,\n",
    "    save_cart_button,\n",
    "])\n",
    "display(input_widgets, grid, table_output)"
   ],
   "metadata": {
    "collapsed": false,
    "ExecuteTime": {
     "end_time": "2025-05-15T21:34:20.189430Z",
     "start_time": "2025-05-15T21:34:20.177426Z"
    }
   },
   "id": "e1f16a162c317d13",
   "execution_count": 7
  },
  {
   "cell_type": "code",
   "outputs": [],
   "source": [],
   "metadata": {
    "collapsed": false
   },
   "id": "c9cc98f6a6f4f9e6"
  }
 ],
 "metadata": {
  "kernelspec": {
   "display_name": "Python 3",
   "language": "python",
   "name": "python3"
  },
  "language_info": {
   "codemirror_mode": {
    "name": "ipython",
    "version": 2
   },
   "file_extension": ".py",
   "mimetype": "text/x-python",
   "name": "python",
   "nbconvert_exporter": "python",
   "pygments_lexer": "ipython2",
   "version": "2.7.6"
  }
 },
 "nbformat": 4,
 "nbformat_minor": 5
}
