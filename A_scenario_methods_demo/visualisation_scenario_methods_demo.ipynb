{
 "cells": [
  {
   "cell_type": "code",
   "outputs": [],
   "source": [
    "import os\n",
    "import sys\n",
    "sys.path.insert(0, os.path.abspath(\"..\")) \n",
    "\n",
    "import numpy as np\n",
    "import ipywidgets as widgets\n",
    "from IPython.display import display\n",
    "\n",
    "from notebook_helpers import update_plots, save_prim_plots, save_cart_plots"
   ],
   "metadata": {
    "collapsed": false,
    "ExecuteTime": {
     "end_time": "2025-03-26T13:58:09.026087Z",
     "start_time": "2025-03-26T13:58:09.020152Z"
    }
   },
   "id": "2005b8ac24cf811",
   "execution_count": 4
  },
  {
   "cell_type": "code",
   "outputs": [],
   "source": [
    "# Create input widgets\n",
    "num_dots_slider = widgets.IntSlider(value=1700, min=100, max=2500, step=100, description=\"Num Dots\")\n",
    "default_quad = np.array([0.3, 0.9, 0.9, 0.7, 1.0, 0.4, 0.2, 0.55])\n",
    "corner_labels = [\"Corner 1 X\", \"Corner 1 Y\", \"Corner 2 X\", \"Corner 2 Y\",\n",
    "                 \"Corner 3 X\", \"Corner 3 Y\", \"Corner 4 X\", \"Corner 4 Y\"]\n",
    "quad_sliders = [widgets.FloatSlider(value=val, min=0.0, max=1.0, step=0.05, description=lbl)\n",
    "                for lbl, val in zip(corner_labels, default_quad)]\n",
    "frac_inside_slider = widgets.FloatSlider(value=0.95, min=0.7, max=1.0, step=0.05, description=\"Frac Inside\")\n",
    "frac_outside_slider = widgets.FloatSlider(value=0.05, min=0.0, max=0.3, step=0.05, description=\"Frac Outside\")\n",
    "peel_frac_slider = widgets.FloatSlider(value=0.10, min=0.0, max=0.5, step=0.05, description=\"Peel Frac\")\n",
    "prim_mass_min_slider = widgets.FloatSlider(value=0.05, min=0.0, max=1.0, step=0.01, description=\"PRIM Mass Min\")\n",
    "cart_mass_min_slider = widgets.FloatSlider(value=0.05, min=0.0, max=1.0, step=0.01, description=\"CART Mass Min\")\n",
    "save_prim_button = widgets.Button(description=\"Save PRIM Plots\")\n",
    "save_cart_button = widgets.Button(description=\"Save CART Plots\")\n",
    "\n",
    "# Create output areas\n",
    "plot_outputs = [widgets.Output(layout=widgets.Layout(width=\"100%\", height=\"300px\"))\n",
    "                for _ in range(9)]\n",
    "table_output = widgets.Output(layout=widgets.Layout(width=\"100%\", height=\"150px\"))\n",
    "grid = widgets.GridspecLayout(3, 3, width=\"12in\", height=\"9in\")\n",
    "for i in range(3):\n",
    "    for j in range(3):\n",
    "        grid[i, j] = plot_outputs[i * 3 + j]"
   ],
   "metadata": {
    "collapsed": false,
    "ExecuteTime": {
     "end_time": "2025-03-26T13:58:09.266930Z",
     "start_time": "2025-03-26T13:58:09.232694Z"
    }
   },
   "id": "3a82a6ab2bf2113f",
   "execution_count": 5
  },
  {
   "cell_type": "code",
   "outputs": [
    {
     "data": {
      "text/plain": "VBox(children=(IntSlider(value=1700, description='Num Dots', max=2500, min=100, step=100), HBox(children=(Floa…",
      "application/vnd.jupyter.widget-view+json": {
       "version_major": 2,
       "version_minor": 0,
       "model_id": "9d2835cdae264f5fa9bc53cbef2182f3"
      }
     },
     "metadata": {},
     "output_type": "display_data"
    },
    {
     "data": {
      "text/plain": "GridspecLayout(children=(Output(layout=Layout(grid_area='widget001', height='300px', width='100%')), Output(la…",
      "application/vnd.jupyter.widget-view+json": {
       "version_major": 2,
       "version_minor": 0,
       "model_id": "264b521130224e65bd87292fa8a4639c"
      }
     },
     "metadata": {},
     "output_type": "display_data"
    },
    {
     "data": {
      "text/plain": "Output(layout=Layout(height='585px', width='100%'))",
      "application/vnd.jupyter.widget-view+json": {
       "version_major": 2,
       "version_minor": 0,
       "model_id": "de9506d492444e289cfb68d1303c3fc0"
      }
     },
     "metadata": {},
     "output_type": "display_data"
    }
   ],
   "source": [
    "def on_update(_):\n",
    "    update_plots(\n",
    "        quad_sliders,\n",
    "        num_dots_slider.value,\n",
    "        frac_inside_slider.value,\n",
    "        frac_outside_slider.value,\n",
    "        peel_frac_slider.value,\n",
    "        prim_mass_min_slider.value,\n",
    "        cart_mass_min_slider.value,\n",
    "        plot_outputs,\n",
    "        table_output,\n",
    "    )\n",
    "    \n",
    "# Attach observers\n",
    "num_dots_slider.observe(on_update, names=\"value\")\n",
    "frac_inside_slider.observe(on_update, names=\"value\")\n",
    "frac_outside_slider.observe(on_update, names=\"value\")\n",
    "peel_frac_slider.observe(on_update, names=\"value\")\n",
    "prim_mass_min_slider.observe(on_update, names=\"value\")\n",
    "cart_mass_min_slider.observe(on_update, names=\"value\")\n",
    "for slider in quad_sliders:\n",
    "    slider.observe(on_update, names=\"value\")\n",
    "\n",
    "# Initial update\n",
    "on_update(None)\n",
    "\n",
    "save_prim_button.on_click(lambda b: save_prim_plots(\n",
    "    quad_sliders,\n",
    "    num_dots_slider.value,\n",
    "    frac_inside_slider.value,\n",
    "    frac_outside_slider.value,\n",
    "    peel_frac_slider.value,\n",
    "    prim_mass_min_slider.value,\n",
    "    cart_mass_min_slider.value,\n",
    "))\n",
    "save_cart_button.on_click(lambda b: save_cart_plots(\n",
    "    quad_sliders,\n",
    "    num_dots_slider.value,\n",
    "    frac_inside_slider.value,\n",
    "    frac_outside_slider.value,\n",
    "    peel_frac_slider.value,\n",
    "    prim_mass_min_slider.value,\n",
    "    cart_mass_min_slider.value\n",
    "))\n",
    "\n",
    "input_widgets = widgets.VBox([\n",
    "    num_dots_slider,\n",
    "    widgets.HBox([frac_inside_slider, frac_outside_slider, peel_frac_slider]),\n",
    "    widgets.HBox(quad_sliders[:4]),\n",
    "    widgets.HBox(quad_sliders[4:]),\n",
    "    widgets.HBox([prim_mass_min_slider, cart_mass_min_slider]),\n",
    "    save_prim_button,\n",
    "    save_cart_button,\n",
    "])\n",
    "display(input_widgets, grid, table_output)"
   ],
   "metadata": {
    "collapsed": false,
    "ExecuteTime": {
     "end_time": "2025-03-26T13:58:10.735544Z",
     "start_time": "2025-03-26T13:58:09.407905Z"
    }
   },
   "id": "ec9134d70dd34e6a",
   "execution_count": 6
  }
 ],
 "metadata": {
  "kernelspec": {
   "display_name": "Python 3",
   "language": "python",
   "name": "python3"
  },
  "language_info": {
   "codemirror_mode": {
    "name": "ipython",
    "version": 2
   },
   "file_extension": ".py",
   "mimetype": "text/x-python",
   "name": "python",
   "nbconvert_exporter": "python",
   "pygments_lexer": "ipython2",
   "version": "2.7.6"
  }
 },
 "nbformat": 4,
 "nbformat_minor": 5
}
