{
 "cells": [
  {
   "cell_type": "markdown",
   "source": [
    "# Scenario Discovery Demo: PRIM, PCA–PRIM, and CART\n",
    "\n",
    "This interactive notebook demonstrates how three scenario discovery methods identify regions of interest in a synthetic 2D input space:\n",
    "\n",
    "- **PRIM**: isolates axis-aligned boxes using iterative peeling\n",
    "- **PCA-PRIM**: applies PRIM in PCA-rotated space to allow oblique cuts\n",
    "- **CART**: uses decision trees to partition the space into class regions\n",
    "\n",
    "Use the configuration panel to generate data, adjust parameters, and compare the methods side-by-side.\n",
    "\n",
    "All output figures are saved to: [`../_data/scenario_methods_demo_outputs/`](../_data/scenario_methods_demo_outputs/)"
   ],
   "metadata": {
    "collapsed": false
   },
   "id": "d23dcc7f85208d6a"
  },
  {
   "cell_type": "markdown",
   "source": [
    "### Slider Descriptions\n",
    "The user interface provides adjustable sliders to control data generation and scenario discovery behavior. These parameters affect the shape, noise level, and algorithmic thresholds:\n",
    "\n",
    "- **Num Dots**: Sets the total number of points in the unit square \\([0, 1]^2\\). Higher values improve resolution but increase runtime.\n",
    "\n",
    "- **Corner X/Y (1–4)**: Sets the quadrilateral's four vertices, which determine the region. Adjusting them changes its rotation, skew or size. This can be useful for testing sensitivity of methods to shape orientation.\n",
    "\n",
    "- **Frac Inside**: Sets the probability that points inside the ground truth shape are labeled as of interest (class 1). Lower values increase ambiguity within the region, introducing internal label uncertainty that makes it harder for methods to form compact, high-purity boxes.\n",
    "\n",
    "- **Frac Outside**: Sets the probability that points outside the shape are labeled as of interest (class 1). Higher values increase external label ambiguity, forcing methods to differentiate relevant and irrelevant areas in the presence of scattered positive labels beyond the true region.\n",
    "\n",
    "- **Peel Frac**: Sets how aggressively PRIM peels low-density regions. Larger values speed up peeling but may overshoot; smaller values offer many boxes to choose from, and a more detailed peeling trajectory.\n",
    "\n",
    "- **PRIM Mass Min**: Sets the minimum fraction of data that a PRIM box must contain. Higher values make the process stop earlier.\n",
    "\n",
    "- **CART Mass Min**: Sets the minimum mass per leaf in the CART tree. Smaller values allow higher complexity trees but may overfit; higher values yield lower complexity trees."
   ],
   "metadata": {
    "collapsed": false
   },
   "id": "8c819720fc586041"
  },
  {
   "cell_type": "markdown",
   "source": [
    "This block section loads necessary modules and configures the environment."
   ],
   "metadata": {
    "collapsed": false
   },
   "id": "6f60d832ab13ee03"
  },
  {
   "cell_type": "code",
   "outputs": [],
   "source": [
    "# === Imports and Setup ===\n",
    "import os\n",
    "import sys\n",
    "sys.path.insert(0, os.path.abspath(\"..\")) \n",
    "\n",
    "import numpy as np\n",
    "import ipywidgets as widgets\n",
    "from IPython.display import display\n",
    "\n",
    "from notebook_helpers import update_plots, save_prim_plots, save_cart_plots"
   ],
   "metadata": {
    "collapsed": false,
    "ExecuteTime": {
     "end_time": "2025-06-05T10:17:04.144729Z",
     "start_time": "2025-06-05T10:17:02.613824Z"
    }
   },
   "id": "2005b8ac24cf811",
   "execution_count": 1
  },
  {
   "cell_type": "markdown",
   "source": [
    "## Configuration Controls\n",
    "\n",
    "This block sets up the sliders which define how the synthetic dataset is generated and how each algorithm behaves."
   ],
   "metadata": {
    "collapsed": false
   },
   "id": "a8bee558ea54e13d"
  },
  {
   "cell_type": "code",
   "outputs": [],
   "source": [
    "# Create input widgets\n",
    "num_dots_slider = widgets.IntSlider(value=1700, min=100, max=2500, step=100, description=\"Num Dots\")\n",
    "default_quad = np.array([0.3, 0.9, 0.9, 0.7, 1.0, 0.4, 0.2, 0.55])\n",
    "corner_labels = [\"Corner 1 X\", \"Corner 1 Y\", \"Corner 2 X\", \"Corner 2 Y\",\n",
    "                 \"Corner 3 X\", \"Corner 3 Y\", \"Corner 4 X\", \"Corner 4 Y\"]\n",
    "quad_sliders = [widgets.FloatSlider(value=val, min=0.0, max=1.0, step=0.05, description=lbl)\n",
    "                for lbl, val in zip(corner_labels, default_quad)]\n",
    "frac_inside_slider = widgets.FloatSlider(value=0.95, min=0.7, max=1.0, step=0.05, description=\"Frac Inside\")\n",
    "frac_outside_slider = widgets.FloatSlider(value=0.05, min=0.0, max=0.3, step=0.05, description=\"Frac Outside\")\n",
    "peel_frac_slider = widgets.FloatSlider(value=0.10, min=0.0, max=0.5, step=0.05, description=\"Peel Frac\")\n",
    "prim_mass_min_slider = widgets.FloatSlider(value=0.05, min=0.0, max=1.0, step=0.01, description=\"PRIM Mass Min\")\n",
    "cart_mass_min_slider = widgets.FloatSlider(value=0.05, min=0.0, max=1.0, step=0.01, description=\"CART Mass Min\")\n",
    "save_prim_button = widgets.Button(description=\"Save PRIM Plots\")\n",
    "save_cart_button = widgets.Button(description=\"Save CART Plots\")"
   ],
   "metadata": {
    "collapsed": false,
    "ExecuteTime": {
     "end_time": "2025-06-05T10:17:04.164087Z",
     "start_time": "2025-06-05T10:17:04.145734Z"
    }
   },
   "id": "3a82a6ab2bf2113f",
   "execution_count": 2
  },
  {
   "cell_type": "markdown",
   "source": [
    "## Output Grid, Update Logic, and Save Button Setup\n",
    "\n",
    "This block prepares the interactive infrastructure for the notebook interface. It defines the output layout, update behavior, and export functionality, but does **not yet render** anything visually."
   ],
   "metadata": {
    "collapsed": false
   },
   "id": "398535211ddb7a2d"
  },
  {
   "cell_type": "code",
   "outputs": [],
   "source": [
    "# Create output areas\n",
    "plot_outputs = [widgets.Output(layout=widgets.Layout(width=\"100%\", height=\"300px\"))\n",
    "                for _ in range(9)]\n",
    "table_output = widgets.Output(layout=widgets.Layout(width=\"100%\", height=\"150px\"))\n",
    "grid = widgets.GridspecLayout(3, 3, width=\"12in\", height=\"9in\")\n",
    "for i in range(3):\n",
    "    for j in range(3):\n",
    "        grid[i, j] = plot_outputs[i * 3 + j]\n",
    "        \n",
    "def on_update(_):\n",
    "    update_plots(\n",
    "        quad_sliders,\n",
    "        num_dots_slider.value,\n",
    "        frac_inside_slider.value,\n",
    "        frac_outside_slider.value,\n",
    "        peel_frac_slider.value,\n",
    "        prim_mass_min_slider.value,\n",
    "        cart_mass_min_slider.value,\n",
    "        plot_outputs,\n",
    "        table_output,\n",
    "    )\n",
    "    \n",
    "# Attach observers\n",
    "num_dots_slider.observe(on_update, names=\"value\")\n",
    "frac_inside_slider.observe(on_update, names=\"value\")\n",
    "frac_outside_slider.observe(on_update, names=\"value\")\n",
    "peel_frac_slider.observe(on_update, names=\"value\")\n",
    "prim_mass_min_slider.observe(on_update, names=\"value\")\n",
    "cart_mass_min_slider.observe(on_update, names=\"value\")\n",
    "for slider in quad_sliders:\n",
    "    slider.observe(on_update, names=\"value\")\n",
    "\n",
    "# Initial update\n",
    "on_update(None)\n",
    "\n",
    "# Set up the save buttons to export the plots\n",
    "save_prim_button.on_click(lambda b: save_prim_plots(\n",
    "    quad_sliders,\n",
    "    num_dots_slider.value,\n",
    "    frac_inside_slider.value,\n",
    "    frac_outside_slider.value,\n",
    "    peel_frac_slider.value,\n",
    "    prim_mass_min_slider.value,\n",
    "    cart_mass_min_slider.value,\n",
    "))\n",
    "save_cart_button.on_click(lambda b: save_cart_plots(\n",
    "    quad_sliders,\n",
    "    num_dots_slider.value,\n",
    "    frac_inside_slider.value,\n",
    "    frac_outside_slider.value,\n",
    "    peel_frac_slider.value,\n",
    "    prim_mass_min_slider.value,\n",
    "    cart_mass_min_slider.value\n",
    "))"
   ],
   "metadata": {
    "collapsed": false,
    "ExecuteTime": {
     "end_time": "2025-06-05T10:17:05.401274Z",
     "start_time": "2025-06-05T10:17:04.165142Z"
    }
   },
   "id": "214227c6b0b17648",
   "execution_count": 3
  },
  {
   "cell_type": "markdown",
   "source": [
    "## Displaying the Interactive Interface\n",
    "\n",
    "This cell lays out and renders the complete user interface:\n",
    "\n",
    "- All **input sliders** are grouped into vertical and horizontal boxes (`VBox`, `HBox`) for clean visual alignment.\n",
    "- The **output grid** of plots and the **CART results table** are placed below the controls.\n",
    "- The `display(...)` function renders everything in the notebook for user interaction.\n",
    "\n",
    "From here, you can:\n",
    "- Adjust any slider to dynamically regenerate the plots.\n",
    "- Click \"Save PRIM Plots\" or \"Save CART Plots\" to export the current results.\n",
    "\n",
    "All exported figures are saved under: `_data/scenario_methods_demo_outputs/`"
   ],
   "metadata": {
    "collapsed": false
   },
   "id": "8f353a73987b6db9"
  },
  {
   "cell_type": "code",
   "outputs": [
    {
     "data": {
      "text/plain": "VBox(children=(IntSlider(value=1700, description='Num Dots', max=2500, min=100, step=100), HBox(children=(Floa…",
      "application/vnd.jupyter.widget-view+json": {
       "version_major": 2,
       "version_minor": 0,
       "model_id": "14ce9c5a6dd3469085dc6e3e761d4a35"
      }
     },
     "metadata": {},
     "output_type": "display_data"
    },
    {
     "data": {
      "text/plain": "GridspecLayout(children=(Output(layout=Layout(grid_area='widget001', height='300px', width='100%')), Output(la…",
      "application/vnd.jupyter.widget-view+json": {
       "version_major": 2,
       "version_minor": 0,
       "model_id": "89cb6fc6f2bf4b8f817741e1ec9ac69c"
      }
     },
     "metadata": {},
     "output_type": "display_data"
    },
    {
     "data": {
      "text/plain": "Output(layout=Layout(height='585px', width='100%'))",
      "application/vnd.jupyter.widget-view+json": {
       "version_major": 2,
       "version_minor": 0,
       "model_id": "c97d67b0d55e4114b3a13d9751fb1192"
      }
     },
     "metadata": {},
     "output_type": "display_data"
    }
   ],
   "source": [
    "input_widgets = widgets.VBox([\n",
    "    num_dots_slider,\n",
    "    widgets.HBox([frac_inside_slider, frac_outside_slider, peel_frac_slider]),\n",
    "    widgets.HBox(quad_sliders[:4]),\n",
    "    widgets.HBox(quad_sliders[4:]),\n",
    "    widgets.HBox([prim_mass_min_slider, cart_mass_min_slider]),\n",
    "    save_prim_button,\n",
    "    save_cart_button,\n",
    "])\n",
    "display(input_widgets, grid, table_output)"
   ],
   "metadata": {
    "collapsed": false,
    "ExecuteTime": {
     "end_time": "2025-06-05T10:17:05.416793Z",
     "start_time": "2025-06-05T10:17:05.401274Z"
    }
   },
   "id": "e1f16a162c317d13",
   "execution_count": 4
  }
 ],
 "metadata": {
  "kernelspec": {
   "display_name": "Python 3",
   "language": "python",
   "name": "python3"
  },
  "language_info": {
   "codemirror_mode": {
    "name": "ipython",
    "version": 2
   },
   "file_extension": ".py",
   "mimetype": "text/x-python",
   "name": "python",
   "nbconvert_exporter": "python",
   "pygments_lexer": "ipython2",
   "version": "2.7.6"
  }
 },
 "nbformat": 4,
 "nbformat_minor": 5
}
