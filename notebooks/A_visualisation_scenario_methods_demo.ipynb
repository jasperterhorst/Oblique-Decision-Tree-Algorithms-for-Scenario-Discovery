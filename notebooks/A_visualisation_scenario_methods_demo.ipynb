{
 "cells": [
  {
   "cell_type": "markdown",
   "source": [
    "# Interactive Scenario Discovery Explorer: PRIM, PCA-PRIM, and CART\n",
    "\n",
    "This notebook provides an interactive comparison of three scenario discovery methods — **PRIM**, **PCA-PRIM**, and **CART** — on a synthetic 2D dataset containing a quadrilateral. It is designed for demonstration, experimentation and diagnostics, with support for real-time parameter tuning and side-by-side visual analysis."
   ],
   "metadata": {
    "collapsed": false
   },
   "id": "96e8671df6b2c181"
  },
  {
   "cell_type": "markdown",
   "source": [
    "### Algorithms Compared\n",
    "\n",
    "- **PRIM** – Generates axis-aligned boxes by peeling low-density regions.\n",
    "- **PCA-PRIM** – Applies PRIM after a PCA-based rotation to align with tilted structures.\n",
    "- **CART** – Builds a binary classification tree using axis-parallel splits.\n",
    "\n",
    "Oblique decision trees and advanced methods are **not included** in this notebook."
   ],
   "metadata": {
    "collapsed": false
   },
   "id": "9b2e31e415963f36"
  },
  {
   "cell_type": "markdown",
   "source": [
    "### Slider Descriptions\n",
    "The user interface provides adjustable sliders to control data generation and scenario discovery behavior. These parameters affect the shape, noise level, and algorithmic thresholds:\n",
    "\n",
    "- **Num Dots**: Sets the total number of points in the unit square \\([0, 1]^2\\). Higher values improve resolution but increase runtime.\n",
    "\n",
    "- **Corner X/Y (1–4)**: Sets the quadrilateral's four vertices, which determine the region. Adjusting them changes its rotation, skew or size — useful for testing method sensitivity to shape orientation.\n",
    "\n",
    "- **Frac Inside**: Sets the probability that points inside the ground truth shape are labeled as of interest (class 1). Lower values increase ambiguity within the region, introducing internal label uncertainty that makes it harder for methods to form compact, high-purity boxes.\n",
    "\n",
    "- **Frac Outside**: Sets the probability that points outside the shape are labeled as of interest (class 1). Higher values increase external label ambiguity, forcing methods to differentiate relevant and irrelevant areas in the presence of scattered positive labels beyond the true region.\n",
    "\n",
    "- **Peel Frac**: Sets how aggressively PRIM peels low-density regions. Larger values speed up peeling but may overshoot; smaller values offer many boxes to choose from, and a more detailed peeling trajectory.\n",
    "\n",
    "- **PRIM Mass Min**: Sets the minimum fraction of data that a PRIM box must contain. Higher values make the process stop earlier.\n",
    "\n",
    "- **CART Mass Min**: Sets the minimum mass per leaf in the CART tree. Smaller values allow higher complexity trees but may overfit; higher values yield lower complexity trees."
   ],
   "metadata": {
    "collapsed": false
   },
   "id": "97d1978e59369774"
  },
  {
   "cell_type": "code",
   "outputs": [],
   "source": [
    "# Imports and setup\n",
    "import numpy as np\n",
    "import ipywidgets as widgets\n",
    "from IPython.display import display\n",
    "from A_scenario_methods_demo.notebook_helpers import update_plots, save_prim_plots, save_cart_plots"
   ],
   "metadata": {
    "collapsed": false,
    "ExecuteTime": {
     "end_time": "2025-03-27T12:02:40.314436Z",
     "start_time": "2025-03-27T12:02:38.678575Z"
    }
   },
   "id": "2005b8ac24cf811",
   "execution_count": 1
  },
  {
   "cell_type": "markdown",
   "source": [
    "The cell below sets up and creates the widget containing the sliders, plots and buttons. It does this using the functions in the `A_scenario_methods_demo` package."
   ],
   "metadata": {
    "collapsed": false
   },
   "id": "88ea9ec4f2bab840"
  },
  {
   "cell_type": "code",
   "outputs": [
    {
     "data": {
      "text/plain": "VBox(children=(IntSlider(value=1700, description='Num Dots', max=2500, min=100, step=100), HBox(children=(Floa…",
      "application/vnd.jupyter.widget-view+json": {
       "version_major": 2,
       "version_minor": 0,
       "model_id": "6b3d41de5f774273ab50134d7aaf4e18"
      }
     },
     "metadata": {},
     "output_type": "display_data"
    },
    {
     "data": {
      "text/plain": "GridspecLayout(children=(Output(layout=Layout(grid_area='widget001', height='300px', width='100%')), Output(la…",
      "application/vnd.jupyter.widget-view+json": {
       "version_major": 2,
       "version_minor": 0,
       "model_id": "d71f43b061ce41bca4af42efa24ef53b"
      }
     },
     "metadata": {},
     "output_type": "display_data"
    },
    {
     "data": {
      "text/plain": "Output(layout=Layout(height='585px', width='100%'))",
      "application/vnd.jupyter.widget-view+json": {
       "version_major": 2,
       "version_minor": 0,
       "model_id": "5e9f1a2288cf49699970606d18ccd66c"
      }
     },
     "metadata": {},
     "output_type": "display_data"
    }
   ],
   "source": [
    "# Create the sliders for the interface\n",
    "num_dots_slider = widgets.IntSlider(value=1700, min=100, max=2500, step=100, description=\"Num Dots\")\n",
    "default_quad = np.array([0.3, 0.9, 0.9, 0.7, 1.0, 0.4, 0.2, 0.55])\n",
    "corner_labels = [\"Corner 1 X\", \"Corner 1 Y\", \"Corner 2 X\", \"Corner 2 Y\",\n",
    "                 \"Corner 3 X\", \"Corner 3 Y\", \"Corner 4 X\", \"Corner 4 Y\"]\n",
    "quad_sliders = [widgets.FloatSlider(value=val, min=0.0, max=1.0, step=0.05, description=lbl)\n",
    "                for lbl, val in zip(corner_labels, default_quad)]\n",
    "frac_inside_slider = widgets.FloatSlider(value=0.95, min=0.7, max=1.0, step=0.05, description=\"Frac Inside\")\n",
    "frac_outside_slider = widgets.FloatSlider(value=0.05, min=0.0, max=0.3, step=0.05, description=\"Frac Outside\")\n",
    "peel_frac_slider = widgets.FloatSlider(value=0.10, min=0.0, max=0.5, step=0.05, description=\"Peel Frac\")\n",
    "prim_mass_min_slider = widgets.FloatSlider(value=0.05, min=0.0, max=1.0, step=0.01, description=\"PRIM Mass Min\")\n",
    "cart_mass_min_slider = widgets.FloatSlider(value=0.05, min=0.0, max=1.0, step=0.01, description=\"CART Mass Min\")\n",
    "\n",
    "# Save buttons\n",
    "save_prim_button = widgets.Button(description=\"Save PRIM Plots\")\n",
    "save_cart_button = widgets.Button(description=\"Save CART Plots\")\n",
    "\n",
    "# Create output areas\n",
    "plot_outputs = [widgets.Output(layout=widgets.Layout(width=\"100%\", height=\"300px\"))\n",
    "                for _ in range(9)]\n",
    "table_output = widgets.Output(layout=widgets.Layout(width=\"100%\", height=\"150px\"))\n",
    "grid = widgets.GridspecLayout(3, 3, width=\"12in\", height=\"9in\")\n",
    "for i in range(3):\n",
    "    for j in range(3):\n",
    "        grid[i, j] = plot_outputs[i * 3 + j]\n",
    "\n",
    "# Automatically refresh plots when sliders change        \n",
    "def on_update(_):\n",
    "    update_plots(\n",
    "        quad_sliders,\n",
    "        num_dots_slider.value,\n",
    "        frac_inside_slider.value,\n",
    "        frac_outside_slider.value,\n",
    "        peel_frac_slider.value,\n",
    "        prim_mass_min_slider.value,\n",
    "        cart_mass_min_slider.value,\n",
    "        plot_outputs,\n",
    "        table_output,\n",
    "    )\n",
    "    \n",
    "# Attach event listeners\n",
    "num_dots_slider.observe(on_update, names=\"value\")\n",
    "frac_inside_slider.observe(on_update, names=\"value\")\n",
    "frac_outside_slider.observe(on_update, names=\"value\")\n",
    "peel_frac_slider.observe(on_update, names=\"value\")\n",
    "prim_mass_min_slider.observe(on_update, names=\"value\")\n",
    "cart_mass_min_slider.observe(on_update, names=\"value\")\n",
    "for slider in quad_sliders:\n",
    "    slider.observe(on_update, names=\"value\")\n",
    "\n",
    "# Initial plot update\n",
    "on_update(None)\n",
    "\n",
    "# Save current PRIM and PCA-PRIM plots\n",
    "save_prim_button.on_click(lambda b: save_prim_plots(\n",
    "    quad_sliders,\n",
    "    num_dots_slider.value,\n",
    "    frac_inside_slider.value,\n",
    "    frac_outside_slider.value,\n",
    "    peel_frac_slider.value,\n",
    "    prim_mass_min_slider.value,\n",
    "    cart_mass_min_slider.value,\n",
    "))\n",
    "# Save current CART plots\n",
    "save_cart_button.on_click(lambda b: save_cart_plots(\n",
    "    quad_sliders,\n",
    "    num_dots_slider.value,\n",
    "    frac_inside_slider.value,\n",
    "    frac_outside_slider.value,\n",
    "    peel_frac_slider.value,\n",
    "    prim_mass_min_slider.value,\n",
    "    cart_mass_min_slider.value\n",
    "))\n",
    "\n",
    "# Display UI containing created sliders, buttons and widgets\n",
    "input_widgets = widgets.VBox([\n",
    "    num_dots_slider,\n",
    "    widgets.HBox([frac_inside_slider, frac_outside_slider, peel_frac_slider]),\n",
    "    widgets.HBox(quad_sliders[:4]),\n",
    "    widgets.HBox(quad_sliders[4:]),\n",
    "    widgets.HBox([prim_mass_min_slider, cart_mass_min_slider]),\n",
    "    save_prim_button,\n",
    "    save_cart_button,\n",
    "])\n",
    "display(input_widgets, grid, table_output)"
   ],
   "metadata": {
    "collapsed": false,
    "ExecuteTime": {
     "end_time": "2025-03-27T12:02:41.339124Z",
     "start_time": "2025-03-27T12:02:40.315560Z"
    }
   },
   "id": "4461a420bf63af7a",
   "execution_count": 2
  }
 ],
 "metadata": {
  "kernelspec": {
   "display_name": "Python 3",
   "language": "python",
   "name": "python3"
  },
  "language_info": {
   "codemirror_mode": {
    "name": "ipython",
    "version": 2
   },
   "file_extension": ".py",
   "mimetype": "text/x-python",
   "name": "python",
   "nbconvert_exporter": "python",
   "pygments_lexer": "ipython2",
   "version": "2.7.6"
  }
 },
 "nbformat": 4,
 "nbformat_minor": 5
}
